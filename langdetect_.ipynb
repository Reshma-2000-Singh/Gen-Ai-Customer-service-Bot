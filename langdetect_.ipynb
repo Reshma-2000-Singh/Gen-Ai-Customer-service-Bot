{
  "nbformat": 4,
  "nbformat_minor": 0,
  "metadata": {
    "colab": {
      "provenance": [],
      "authorship_tag": "ABX9TyMiFnN5F1AgLOv57KiieH9p",
      "include_colab_link": true
    },
    "kernelspec": {
      "name": "python3",
      "display_name": "Python 3"
    },
    "language_info": {
      "name": "python"
    }
  },
  "cells": [
    {
      "cell_type": "markdown",
      "metadata": {
        "id": "view-in-github",
        "colab_type": "text"
      },
      "source": [
        "<a href=\"https://colab.research.google.com/github/Reshma-2000-Singh/Gen-Ai-Customer-service-Bot/blob/main/langdetect_.ipynb\" target=\"_parent\"><img src=\"https://colab.research.google.com/assets/colab-badge.svg\" alt=\"Open In Colab\"/></a>"
      ]
    },
    {
      "cell_type": "markdown",
      "source": [
        " Language Support Extension\n",
        "Goal: Add at least three additional languages (e.g., Spanish, French, Mandarin Chinese)."
      ],
      "metadata": {
        "id": "sbuW2v7qoy3b"
      }
    },
    {
      "cell_type": "code",
      "execution_count": null,
      "metadata": {
        "id": "4F8h6NBmmbTP"
      },
      "outputs": [],
      "source": [
        "SUPPORTED_LANGUAGES = ['en', 'es', 'fr', 'zh']\n"
      ]
    },
    {
      "cell_type": "markdown",
      "source": [
        " Language Detection\n",
        "Goal: Automatically detect user input language and store/update user language preference."
      ],
      "metadata": {
        "id": "--U9h-mVo4Bz"
      }
    },
    {
      "cell_type": "code",
      "source": [
        "from langdetect import detect\n",
        "\n",
        "def detect_language(text):\n",
        "    try:\n",
        "        lang = detect(text)\n",
        "        return lang if lang in SUPPORTED_LANGUAGES else 'en'\n",
        "    except:\n",
        "        return 'en'\n"
      ],
      "metadata": {
        "id": "VT6pftV-mluY"
      },
      "execution_count": null,
      "outputs": []
    },
    {
      "cell_type": "code",
      "metadata": {
        "colab": {
          "base_uri": "https://localhost:8080/"
        },
        "id": "e5a564ab",
        "outputId": "8c62802c-9950-4e07-e6c8-7fe481519692"
      },
      "source": [
        "!pip install langdetect"
      ],
      "execution_count": null,
      "outputs": [
        {
          "output_type": "stream",
          "name": "stdout",
          "text": [
            "Collecting langdetect\n",
            "  Downloading langdetect-1.0.9.tar.gz (981 kB)\n",
            "\u001b[?25l     \u001b[90m━━━━━━━━━━━━━━━━━━━━━━━━━━━━━━━━━━━━━━━━\u001b[0m \u001b[32m0.0/981.5 kB\u001b[0m \u001b[31m?\u001b[0m eta \u001b[36m-:--:--\u001b[0m\r\u001b[2K     \u001b[91m━━━━━━━━━━━━━━━━━━━━━━━━━━━━━━━━━━━━━\u001b[0m\u001b[91m╸\u001b[0m \u001b[32m972.8/981.5 kB\u001b[0m \u001b[31m35.8 MB/s\u001b[0m eta \u001b[36m0:00:01\u001b[0m\r\u001b[2K     \u001b[90m━━━━━━━━━━━━━━━━━━━━━━━━━━━━━━━━━━━━━━\u001b[0m \u001b[32m981.5/981.5 kB\u001b[0m \u001b[31m21.1 MB/s\u001b[0m eta \u001b[36m0:00:00\u001b[0m\n",
            "\u001b[?25h  Preparing metadata (setup.py) ... \u001b[?25l\u001b[?25hdone\n",
            "Requirement already satisfied: six in /usr/local/lib/python3.11/dist-packages (from langdetect) (1.17.0)\n",
            "Building wheels for collected packages: langdetect\n",
            "  Building wheel for langdetect (setup.py) ... \u001b[?25l\u001b[?25hdone\n",
            "  Created wheel for langdetect: filename=langdetect-1.0.9-py3-none-any.whl size=993223 sha256=534832b2b9f7ffeb9b38053ebae61c84df1ed9336a9551367f1a2de098e99723\n",
            "  Stored in directory: /root/.cache/pip/wheels/0a/f2/b2/e5ca405801e05eb7c8ed5b3b4bcf1fcabcd6272c167640072e\n",
            "Successfully built langdetect\n",
            "Installing collected packages: langdetect\n",
            "Successfully installed langdetect-1.0.9\n"
          ]
        }
      ]
    },
    {
      "cell_type": "markdown",
      "source": [
        "Seamless Language Switching Goal: Enable real-time switching if the user changes language mid-conversation."
      ],
      "metadata": {
        "id": "o0gcgZX-ptNu"
      }
    },
    {
      "cell_type": "code",
      "source": [
        "user_session = {\"preferred_language\": \"en\"}\n",
        "\n",
        "def update_language_preference(text):\n",
        "    lang = detect_language(text)\n",
        "    if lang != user_session['preferred_language']:\n",
        "        user_session['preferred_language'] = lang\n",
        "    return lang\n"
      ],
      "metadata": {
        "id": "hxpKI6h2myCm"
      },
      "execution_count": null,
      "outputs": []
    },
    {
      "cell_type": "markdown",
      "source": [
        "Culturally Appropriate Responses\n",
        "Goal: Modify tone, idioms, references, and formality based on cultural norms"
      ],
      "metadata": {
        "id": "kd5lTJ1mpI45"
      }
    },
    {
      "cell_type": "code",
      "source": [
        "GREETINGS = {\n",
        "    \"en\": \"Hello! How can I help you today?\",\n",
        "    \"es\": \"¡Hola! ¿Cómo puedo ayudarte hoy?\",\n",
        "    \"fr\": \"Bonjour ! Comment puis-je vous aider aujourd'hui ?\",\n",
        "    \"zh\": \"你好！我能为你做些什么？\"\n",
        "}\n"
      ],
      "metadata": {
        "id": "iC0DGbFHm1G-"
      },
      "execution_count": null,
      "outputs": []
    },
    {
      "cell_type": "code",
      "source": [
        "# Placeholder for user input. In a real application, this would come from the user.\n",
        "user_input = \"How are you?\"\n",
        "\n",
        "# Call the function to update language preference and get the detected language\n",
        "detected_lang = update_language_preference(user_input)\n",
        "\n",
        "# Use the preferred language from the session to construct the prompt\n",
        "prompt = f\"Respond to this input in {user_session['preferred_language']} using culturally appropriate tone: {user_input}\"\n",
        "\n",
        "print(prompt)"
      ],
      "metadata": {
        "colab": {
          "base_uri": "https://localhost:8080/"
        },
        "id": "o6D8QHgRm6_S",
        "outputId": "91ba3b24-e173-4be1-a9f8-0e8c42662239"
      },
      "execution_count": null,
      "outputs": [
        {
          "output_type": "stream",
          "name": "stdout",
          "text": [
            "Respond to this input in en using culturally appropriate tone: How are you?\n"
          ]
        }
      ]
    },
    {
      "cell_type": "markdown",
      "source": [
        " Advanced NLP Features\n",
        "Goal: Improve understanding and generation in all languages."
      ],
      "metadata": {
        "id": "xoz4Eu1OpV13"
      }
    },
    {
      "cell_type": "code",
      "source": [
        "import spacy\n",
        "nlp = spacy.load(\"xx_ent_wiki_sm\")\n",
        "doc = nlp(\"Bonjour, je m'appelle Marie et je vis à Paris.\")\n",
        "entities = [(ent.text, ent.label_) for ent in doc.ents]\n"
      ],
      "metadata": {
        "id": "pQwlrfmHnjxs"
      },
      "execution_count": null,
      "outputs": []
    },
    {
      "cell_type": "code",
      "metadata": {
        "colab": {
          "base_uri": "https://localhost:8080/"
        },
        "id": "9c649bfc",
        "outputId": "8930ff1c-4d5c-4d53-eaeb-6156567f55fe"
      },
      "source": [
        "!python -m spacy download xx_ent_wiki_sm"
      ],
      "execution_count": null,
      "outputs": [
        {
          "output_type": "stream",
          "name": "stdout",
          "text": [
            "Collecting xx-ent-wiki-sm==3.8.0\n",
            "  Downloading https://github.com/explosion/spacy-models/releases/download/xx_ent_wiki_sm-3.8.0/xx_ent_wiki_sm-3.8.0-py3-none-any.whl (11.1 MB)\n",
            "\u001b[2K     \u001b[90m━━━━━━━━━━━━━━━━━━━━━━━━━━━━━━━━━━━━━━━━\u001b[0m \u001b[32m11.1/11.1 MB\u001b[0m \u001b[31m60.7 MB/s\u001b[0m eta \u001b[36m0:00:00\u001b[0m\n",
            "\u001b[?25hInstalling collected packages: xx-ent-wiki-sm\n",
            "Successfully installed xx-ent-wiki-sm-3.8.0\n",
            "\u001b[38;5;2m✔ Download and installation successful\u001b[0m\n",
            "You can now load the package via spacy.load('xx_ent_wiki_sm')\n",
            "\u001b[38;5;3m⚠ Restart to reload dependencies\u001b[0m\n",
            "If you are in a Jupyter or Colab notebook, you may need to restart Python in\n",
            "order to load all the package's dependencies. You can do this by selecting the\n",
            "'Restart kernel' or 'Restart runtime' option.\n"
          ]
        }
      ]
    },
    {
      "cell_type": "markdown",
      "source": [
        "Putting It All Together"
      ],
      "metadata": {
        "id": "P34m6gHbpeHf"
      }
    },
    {
      "cell_type": "code",
      "source": [
        "def chatbot_reply(user_input):\n",
        "    lang = update_language_preference(user_input)\n",
        "\n",
        "    # Generate culturally adapted response\n",
        "    prompt = f\"Respond in {lang}, using culturally appropriate tone: {user_input}\"\n",
        "    response = call_gpt_model(prompt)  # Assume GPT supports all languages\n",
        "\n",
        "    return response\n"
      ],
      "metadata": {
        "id": "7ruISxXMn1LV"
      },
      "execution_count": null,
      "outputs": []
    }
  ]
}